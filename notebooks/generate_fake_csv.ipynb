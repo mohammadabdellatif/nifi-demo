{
 "cells": [
  {
   "cell_type": "code",
   "execution_count": 1,
   "id": "9cc3d87b-96d4-431c-a86b-4578f9798ce8",
   "metadata": {},
   "outputs": [
    {
     "name": "stdout",
     "output_type": "stream",
     "text": [
      "library loaded\n"
     ]
    }
   ],
   "source": [
    "from faker import Faker\n",
    "fake = Faker()\n",
    "Faker.seed(1321)\n",
    "print(\"library loaded\")"
   ]
  },
  {
   "cell_type": "code",
   "execution_count": 2,
   "id": "5879faa1-2ddf-462b-a905-d189971451f7",
   "metadata": {},
   "outputs": [
    {
     "name": "stdout",
     "output_type": "stream",
     "text": [
      "csv file generated\n"
     ]
    }
   ],
   "source": [
    "import csv\n",
    "fake=Faker()\n",
    "header=['name','age','street','city','state','zip','lng','lat']\n",
    "\n",
    "with open('result/data.csv','w') as output:\n",
    "    writer = csv.writer(output)\n",
    "    writer.writerow(header)\n",
    "    for r in range(10000):\n",
    "        row =[fake.name(),fake.random_int(min=18,max=80, step=1), \n",
    "                           fake.street_address(), fake.city(),fake.state(),\n",
    "                           fake.zipcode(),fake.longitude(),fake.latitude()]\n",
    "        writer.writerow(row)\n",
    "\n",
    "print(\"csv file generated\")"
   ]
  },
  {
   "cell_type": "code",
   "execution_count": null,
   "id": "99cf9313-5875-4916-8da6-8c8a0f567ab5",
   "metadata": {},
   "outputs": [],
   "source": []
  }
 ],
 "metadata": {
  "kernelspec": {
   "display_name": "Python 3",
   "language": "python",
   "name": "python3"
  },
  "language_info": {
   "codemirror_mode": {
    "name": "ipython",
    "version": 3
   },
   "file_extension": ".py",
   "mimetype": "text/x-python",
   "name": "python",
   "nbconvert_exporter": "python",
   "pygments_lexer": "ipython3",
   "version": "3.9.2"
  }
 },
 "nbformat": 4,
 "nbformat_minor": 5
}
