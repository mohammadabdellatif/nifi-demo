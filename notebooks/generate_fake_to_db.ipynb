{
 "cells": [
  {
   "cell_type": "code",
   "execution_count": 1,
   "id": "9cc3d87b-96d4-431c-a86b-4578f9798ce8",
   "metadata": {},
   "outputs": [
    {
     "name": "stdout",
     "output_type": "stream",
     "text": [
      "library loaded\n"
     ]
    }
   ],
   "source": [
    "from faker import Faker\n",
    "fake = Faker()\n",
    "Faker.seed(1321)\n",
    "print(\"library loaded\")"
   ]
  },
  {
   "cell_type": "code",
   "execution_count": 2,
   "id": "5879faa1-2ddf-462b-a905-d189971451f7",
   "metadata": {},
   "outputs": [],
   "source": [
    "fake=Faker()\n",
    "header=['name','age','street','city','state','zip','lng','lat','imported']\n",
    "records = []\n",
    "for r in range(100):\n",
    "    row =[fake.name(),fake.random_int(min=18,max=80, step=1), \n",
    "                       fake.street_address(), fake.city(),fake.state(),\n",
    "                       fake.zipcode(),fake.longitude(),fake.latitude(),False]\n",
    "    records.append(row)"
   ]
  },
  {
   "cell_type": "code",
   "execution_count": 3,
   "id": "99cf9313-5875-4916-8da6-8c8a0f567ab5",
   "metadata": {},
   "outputs": [],
   "source": [
    "from sqlalchemy import create_engine\n",
    "import pandas as pds"
   ]
  },
  {
   "cell_type": "code",
   "execution_count": 4,
   "id": "673bedf0-d427-4947-90d9-816df281c735",
   "metadata": {},
   "outputs": [
    {
     "name": "stdout",
     "output_type": "stream",
     "text": [
      "PostgreSQL Table people has been created successfully.\n"
     ]
    }
   ],
   "source": [
    "dataFrame = pds.DataFrame(records,columns=header);\n",
    "\n",
    "alchemyEngine = create_engine('postgresql+psycopg2://pg:pg@postgres/demoDB', pool_recycle=3600);\n",
    "postgreSQLConnection = alchemyEngine.connect();\n",
    "postgreSQLTable = \"people\";\n",
    "\n",
    "try:\n",
    "    frame = dataFrame.to_sql(postgreSQLTable, postgreSQLConnection, if_exists = 'append', index = False);\n",
    "except ValueError as vx:\n",
    "    print(vx)\n",
    "except Exception as ex:  \n",
    "    print(ex)\n",
    "else:\n",
    "    print(\"PostgreSQL Table %s has been created successfully.\"%postgreSQLTable);\n",
    "finally:\n",
    "    postgreSQLConnection.close();"
   ]
  }
 ],
 "metadata": {
  "kernelspec": {
   "display_name": "Python 3",
   "language": "python",
   "name": "python3"
  },
  "language_info": {
   "codemirror_mode": {
    "name": "ipython",
    "version": 3
   },
   "file_extension": ".py",
   "mimetype": "text/x-python",
   "name": "python",
   "nbconvert_exporter": "python",
   "pygments_lexer": "ipython3",
   "version": "3.8.8"
  }
 },
 "nbformat": 4,
 "nbformat_minor": 5
}
